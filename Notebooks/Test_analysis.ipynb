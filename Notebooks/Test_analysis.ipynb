{
 "cells": [
  {
   "cell_type": "markdown",
   "id": "a061cf17-7b24-4c61-b333-0498c751c397",
   "metadata": {},
   "source": [
    "# MEA analysis script for a single recording\n",
    "This is the analysis script to extract the trigger channel and the spikes from a single MEA recording. The input data is a .brw file which contains the stimulus channel of the recording and a .hdf5 file which is the output of the HS2 spikesorting algorithm. \n",
    "At the end of this script, dataframes containing the spikes sorted by stimuli and the trigger times for each stimulus can be exported either to a zipped pickle file or a .mat matlab file for forther analysis in Matlab.\n",
    "First we import all needed libraries:"
   ]
  },
  {
   "cell_type": "code",
   "execution_count": null,
   "id": "21293bde-432f-46f7-9fc0-564844fcd704",
   "metadata": {},
   "outputs": [],
   "source": [
    "from MEA_analysis import backbone, stimulus_trace, spike_extractor, spike_plotly, stimulus_and_spikes, single_stimulus\n",
    "from importlib import reload  \n",
    "import qgrid\n",
    "%matplotlib widget\n",
    "reload(spike_plotly)\n",
    "reload(spike_extractor)\n",
    "from ipywidgets import interact, interact_manual, interactive\n",
    "import ipywidgets as widgets\n",
    "import numpy as np\n",
    "import pandas as pd\n",
    "import plotly.graph_objects as go"
   ]
  },
  {
   "cell_type": "markdown",
   "id": "4be7e853-5dc2-4ff1-8fd3-49f87a133ba5",
   "metadata": {},
   "source": [
    "### Import the stimulus file\n",
    "Run the cell and click on the File select button. Choose the stimulus file that you would like to use from the pop up window. "
   ]
  },
  {
   "cell_type": "code",
   "execution_count": null,
   "id": "e45047d0-7d3a-40ff-b71c-71d70be4aae4",
   "metadata": {},
   "outputs": [],
   "source": [
    "trigger_file = backbone.SelectFilesButton(\"Stimulus\")\n",
    "widgets.VBox([trigger_file, trigger_file.out])"
   ]
  },
  {
   "cell_type": "markdown",
   "id": "6b0d2075-6c90-4bb2-b631-ea9a6ed5f930",
   "metadata": {},
   "source": [
    "#### Choice:\n",
    "You can jump over the next steps and load a saved stimulus dataframe a few cells further down!"
   ]
  },
  {
   "cell_type": "markdown",
   "id": "39ffd58e-3235-40d0-ac11-ffb7779a1c5e",
   "metadata": {},
   "source": [
    "#### Plot the trigger channel and define stimulus borders\n",
    "This is an interactive plot, you can define stimuli by selecting a trigger signal (which will be the stimulus begin) and than select a second trigger signal (which will be the stimulus end). The stimulus begin will be indicated by a yellow dot and the end by a red dot which will be plotted into the \n",
    "graph. Depending on how long the recording is, the selection process can take a few seconds, check on the bottom left, if Python indicates that it is \"busy\". \n",
    "Also please note: This overview plot is downsampled, to make the plotting faster. You can change the factor by changing the input parameter for this function `Test_stimulus.plot_trigger_channel_new(\"200ms\")` . If you choose higher values, the downsampling will be higher, but this will also create more artefacts. The artefacts are not important until the point at which whole trigger signals disappear due to the downsampling. "
   ]
  },
  {
   "cell_type": "code",
   "execution_count": null,
   "id": "b5e03d97-0853-4c45-b5be-44c9123aa15a",
   "metadata": {},
   "outputs": [],
   "source": [
    "Test_stimulus = stimulus_trace.Stimulus_Extractor(trigger_file.files[0])\n",
    "Test_stimulus.plot_trigger_channel_new(\"10ms\")\n"
   ]
  },
  {
   "cell_type": "markdown",
   "id": "5bf070dd-a34f-4bc0-8bf8-53d32fcfcc12",
   "metadata": {},
   "source": [
    "Once you have selected all stimuli, run this cell to correctly identify them. A line will be plotted on top of the trigger signal for each stimulus."
   ]
  },
  {
   "cell_type": "code",
   "execution_count": null,
   "id": "f3b907e4-fdc4-4f93-ac75-f5d20303bd54",
   "metadata": {},
   "outputs": [],
   "source": [
    "Test_stimulus.get_stim_range_new()"
   ]
  },
  {
   "cell_type": "markdown",
   "id": "1f5e238a-f33b-410e-86b1-3a3637058d78",
   "metadata": {},
   "source": [
    "\n",
    "Here you see all the information that has been gathered for the respective stimuli. Next, you should name the stimuli in the field \"Stimulus_name\" just double click a row and enter the name you want. Also enter the values for the Stimulus repeat logic and the repeat sublogic at the respective rows. "
   ]
  },
  {
   "cell_type": "code",
   "execution_count": null,
   "id": "2bea217c-57c0-4bbb-bbb0-157b7b95cf30",
   "metadata": {},
   "outputs": [],
   "source": [
    "Stimulus_table = qgrid.show_grid(Test_stimulus.stimuli)\n",
    "Stimulus_table"
   ]
  },
  {
   "cell_type": "markdown",
   "id": "c06cda93-08eb-43d6-be63-4df49cc25fbe",
   "metadata": {},
   "source": [
    "Once you are done, run the next cell. The correct names of the stimuli will appear in the plot above."
   ]
  },
  {
   "cell_type": "code",
   "execution_count": null,
   "id": "718ba718-d7e1-40e4-9c52-295b15281391",
   "metadata": {},
   "outputs": [],
   "source": [
    "Test_stimulus.get_changed_names(Stimulus_table)\n"
   ]
  },
  {
   "cell_type": "code",
   "execution_count": null,
   "id": "6520a2c5-8e15-43c5-9cd7-dddc062e4187",
   "metadata": {},
   "outputs": [],
   "source": [
    "Test_stimulus = stimulus_trace.Stimulus_Extractor(trigger_file.files[0])\n",
    "Test_stimulus.load_from_saved(Test_stimulus.recording_folder+\"stimulus_overview\")"
   ]
  },
  {
   "cell_type": "markdown",
   "id": "7d87771f-cd0f-464e-a3dc-909df3018bae",
   "metadata": {},
   "source": [
    "## Loading the spikes\n",
    "Here we load the spikes. Run the cell and click the button to select the output file of the HS2 spikesorting. "
   ]
  },
  {
   "cell_type": "code",
   "execution_count": null,
   "id": "4be1a777-32ed-42a5-8277-6a868e190813",
   "metadata": {},
   "outputs": [],
   "source": [
    "spikes_file = backbone.SelectFilesButton(\"Spikes\")\n",
    "widgets.VBox([spikes_file, spikes_file.out])"
   ]
  },
  {
   "cell_type": "markdown",
   "id": "3658cc38-99b1-413f-9531-a88849da5ee4",
   "metadata": {},
   "source": [
    "The next cell will plot an overview over all the cells found by the spikesorting and the number of spikes for each cell. Under the plot you find a number of interfaces that allow for setting thresholds for how many cells you want to load, and at which points cells with too many spikes or too less spikes shall be kicked out. "
   ]
  },
  {
   "cell_type": "code",
   "execution_count": null,
   "id": "82eed496-1b9d-4b33-9a04-87bd9b2cea25",
   "metadata": {},
   "outputs": [],
   "source": [
    "reload(spike_extractor)\n",
    "Spikes = spike_extractor.Recording_spikes(spikes_file.files[0])\n",
    "thresholds = spike_extractor.Thresholds(Spikes.spikes, Test_stimulus)\n",
    "overview = spike_plotly.Recording_overview(Spikes.spikes)\n",
    "overview.plot_basic_recording_information(thresholds)"
   ]
  },
  {
   "cell_type": "markdown",
   "id": "0549bb8a-0418-4745-af5b-fc76f4fabe1d",
   "metadata": {},
   "source": [
    "Once you have made the selection, you can load the respective spikes by running the next cell. It will return an overview over all loaded cells, and the spikes per stimulus, as well as the location of the cell on the MEA grid."
   ]
  },
  {
   "cell_type": "code",
   "execution_count": null,
   "id": "9605808d-e23c-43f4-b41b-960a3703d564",
   "metadata": {},
   "outputs": [],
   "source": [
    "waveforms = Spikes.get_unit_waveform(200, 100)"
   ]
  },
  {
   "cell_type": "code",
   "execution_count": null,
   "id": "450ededd-f981-4ba3-a959-78217dc16019",
   "metadata": {
    "tags": []
   },
   "outputs": [],
   "source": [
    "#Load spikes\n",
    "reload(stimulus_and_spikes)\n",
    "Spikes.define_subset(thresholds.threshold_left_widget.value, thresholds.threshold_right_widget.value)\n",
    "Spikes.define_thr(thresholds.threshold_up_widget.value, thresholds.threshold_low_widget.value)\n",
    "spikes_df = Spikes.get_spikes(True, True)[2]\n",
    "\n",
    "#Correlate spikes and stimuli\n",
    "begin_idx, end_idx = stimulus_and_spikes.spikes_and_stimulus(spikes_df, Test_stimulus.stimuli)   \n",
    "stimulus_spikes = stimulus_and_spikes.extract_stimulus_spikes(spikes_df, Test_stimulus.stimuli['Stimulus_name'], begin_idx, end_idx, np.array(Test_stimulus.stimuli['Begin_Fr'][:], dtype=int))\n",
    "complete_dataframe = pd.DataFrame(columns=('Cell index', 'Centres x', 'Centres y', 'Nr of Spikes', 'Area', 'Stimulus ID', 'Stimulus name', 'Spikes'))\n",
    "row = 0\n",
    "\n",
    "for cell in range(len(spikes_df)):\n",
    "       \n",
    "    for stimulus in range(len(stimulus_spikes)):\n",
    "        \n",
    "        nr_spikes_new = np.count_nonzero(~stimulus_spikes['Spikes'][stimulus][:, cell].mask)\n",
    "        \n",
    "        area_new =  spikes_df['Area'].loc[cell]* (nr_spikes_new/spikes_df['Nr of spikes'].loc[cell])\n",
    "        complete_dataframe.loc[row] = [spikes_df['Cell index'].loc[cell], spikes_df['Centres x'].loc[cell],  spikes_df['Centres y'].loc[cell],\n",
    "                                       nr_spikes_new, area_new, stimulus, \n",
    "                                       Test_stimulus.stimuli['Stimulus_name'][stimulus], stimulus_spikes['Spikes'][stimulus][:, cell]]\n",
    "        row = row+1\n",
    "\n",
    "        \n",
    "multi_complete_dataframe = complete_dataframe.set_index(['Cell index', 'Stimulus ID', 'Centres x', 'Centres y', 'Nr of Spikes', 'Area', 'Stimulus name'])\n",
    "complete_dataset = qgrid.show_grid(multi_complete_dataframe)\n",
    "complete_dataset"
   ]
  },
  {
   "cell_type": "code",
   "execution_count": null,
   "id": "6559724e-9d9f-4495-8420-43c184b15fc5",
   "metadata": {},
   "outputs": [],
   "source": []
  },
  {
   "cell_type": "markdown",
   "id": "72a2c510-1ac7-4b69-b600-75bba41f29fd",
   "metadata": {},
   "source": [
    "You can save this dataframe and the stimulus dataframe here to be able to load them together with other recordings later."
   ]
  },
  {
   "cell_type": "code",
   "execution_count": null,
   "id": "a4cac628-51a7-4ec8-9904-94f8d6e63e9c",
   "metadata": {},
   "outputs": [],
   "source": [
    "multi_complete_dataframe.to_pickle(Test_stimulus.recording_folder+\"spikes_for_overview\", compression=\"zip\")\n",
    "Test_stimulus.stimuli.to_pickle(Test_stimulus.recording_folder+\"stimulus_overview\", compression=\"zip\")"
   ]
  },
  {
   "cell_type": "code",
   "execution_count": null,
   "id": "2f9112f4-225a-4173-b1da-e6ba6f21bf04",
   "metadata": {},
   "outputs": [],
   "source": [
    "waveform_window = widgets.Output(layout={'border': '1px solid black'})\n",
    "waveform_window"
   ]
  },
  {
   "cell_type": "markdown",
   "id": "a79375fb-fab6-4fc4-839f-ee11e6a69ef0",
   "metadata": {},
   "source": [
    "This cell plots an overview over the how many spikes were detected (circle size) at which location on the MEA grid."
   ]
  },
  {
   "cell_type": "code",
   "execution_count": null,
   "id": "4398461d-5c9e-456d-8b7c-ec99afc05120",
   "metadata": {},
   "outputs": [],
   "source": [
    "reload(spike_plotly)\n",
    "plottingarray = spike_plotly.ArrayFigure(spikes_df, Spikes)\n",
    "plottingarray.window = waveform_window\n",
    "test = plottingarray.plot_locations()\n",
    "test"
   ]
  },
  {
   "cell_type": "markdown",
   "id": "48d2d4c5-c368-44c3-85f6-0a292c5f14d7",
   "metadata": {},
   "source": [
    "## Look at single stimuli\n",
    "Next we can load single stimuli and look at the spiketrains. Run the next cell and select which stimulus you want to look at."
   ]
  },
  {
   "cell_type": "code",
   "execution_count": null,
   "id": "d3ca145f-dd8c-4e3a-b11c-796df2a82097",
   "metadata": {
    "tags": []
   },
   "outputs": [],
   "source": [
    "reload(single_stimulus)\n",
    "stimulus_extr = single_stimulus.Single_stimulus_spikes(multi_complete_dataframe, Test_stimulus)\n",
    "select_stimulus = backbone.select_stimulus(len(Test_stimulus.stimuli)-1)\n",
    "\n",
    "interact(stimulus_extr.load_spikes_for_stimulus, stimulus_id = select_stimulus)"
   ]
  },
  {
   "cell_type": "markdown",
   "id": "eb66271b-a319-46c5-9930-07e410e77655",
   "metadata": {},
   "source": [
    "### Export spikes to matlab\n",
    "If you want, you can export the spikes for the stimulus you have selected. The file will be saved in the same folder in which the .hdf5 file is located in. Its names based on the stimulus name and stimulus ID"
   ]
  },
  {
   "cell_type": "code",
   "execution_count": null,
   "id": "0f9c4aed-bb90-4b48-af2c-4c0147c9860d",
   "metadata": {},
   "outputs": [],
   "source": [
    "# Export spiketimes to matlab\n",
    "from scipy.io import savemat\n",
    "\n",
    "Spikes = list(stimulus_extr.spikes_stimulus[\"Spikes\"]/stimulus_extr.sampling_freq)\n",
    "max_len = np.shape(Spikes[0])[0]\n",
    "spikes_array = np.zeros((max_len, len(Spikes)), dtype=float)\n",
    "\n",
    "for cell in range(len(Spikes)):\n",
    "    spikes_array[:, cell] = Spikes[cell]\n",
    "    \n",
    "    \n",
    "\n",
    "channel = np.array(Test_stimulus.channel[stimulus_extr.stimulus_info[\"Begin_Fr\"]-10:stimulus_extr.stimulus_info[\"End_Fr\"]])\n",
    "channel = channel[:, 0].astype(int)\n",
    "\n",
    "test_dic = {}\n",
    "test_dic[\"spiketimestamps\"] = spikes_array\n",
    "test_dic[\"Ch_new\"] = {}\n",
    "test_dic[\"Ch_new\"][\"trigger_ch\"] = channel\n",
    "test_dic[\"Ch_new\"][\"SamplingFrequency\"] = stimulus_extr.sampling_freq\n",
    "test_dic[\"Cell_idx\"] = stimulus_extr.spikes_stimulus.index.get_level_values(0).to_numpy()\n",
    "#test = test_dic[\"Ch_new\"] = np.core.records.fromarrays([[1, 10], [2, 20]], names=['field1', 'field2'])\n",
    "\n",
    "savemat(Test_stimulus.recording_folder+Test_stimulus.stimuli.loc[select_stimulus.value][\"Stimulus_name\"]+\n",
    "        str(select_stimulus.value)+\"_spikes.mat\", test_dic)"
   ]
  },
  {
   "cell_type": "code",
   "execution_count": null,
   "id": "f066c0f4-1623-4054-aeb3-fcadf9d559ef",
   "metadata": {
    "tags": []
   },
   "outputs": [],
   "source": [
    "reload(spike_plotly)\n",
    "Colours = spike_plotly.Colour_template()\n",
    "colour_selection = Colours.select_preset_colour()\n",
    "interact(Colours.pickstimcolour, selected_stimulus=colour_selection)"
   ]
  },
  {
   "cell_type": "code",
   "execution_count": null,
   "id": "e6bc8b3d-5f93-4247-b961-9bf62b13a033",
   "metadata": {},
   "outputs": [],
   "source": [
    "Colours.changed_selection()\n",
    "stimulus_extr.Colours = Colours"
   ]
  },
  {
   "cell_type": "code",
   "execution_count": null,
   "id": "ee26c5bc-69df-4379-b8b3-4f89404914a3",
   "metadata": {
    "tags": []
   },
   "outputs": [],
   "source": [
    "\n",
    "stimulus_extr.spikes_conv_gauss_all(resolution=0.001, sigma=20)\n",
    "stimulus_extr.spikes_psth_all()\n",
    "stimulus_extr.spikes_isi_all()\n",
    "stimulus_extr.spikes_sync_all()\n",
    "\n"
   ]
  },
  {
   "cell_type": "code",
   "execution_count": null,
   "id": "c85dd4e4-d84a-404b-a29b-27a68a2cfd46",
   "metadata": {},
   "outputs": [],
   "source": [
    "stimulus_extr.spikes_psth_all()"
   ]
  },
  {
   "cell_type": "code",
   "execution_count": null,
   "id": "7adf3510-c289-473a-ac3b-3358c12784f8",
   "metadata": {},
   "outputs": [],
   "source": [
    "Quality_df = stimulus_extr.spikes_stimulus"
   ]
  },
  {
   "cell_type": "code",
   "execution_count": null,
   "id": "0b894747-0c5d-47b3-815c-e26ea112dba4",
   "metadata": {},
   "outputs": [],
   "source": [
    "stimulus_extr.spikes_psth_all()"
   ]
  },
  {
   "cell_type": "code",
   "execution_count": null,
   "id": "161fc50d-578a-4c33-8c85-54ee51662ed2",
   "metadata": {
    "tags": []
   },
   "outputs": [],
   "source": [
    "reload(single_stimulus)\n",
    "reload(stimulus_and_spikes)\n",
    "Quality_df = single_stimulus.calculate_quality_index(stimulus_extr.spikes_stimulus, stimulus_extr.trigger_complete,\n",
    "                                     int(stimulus_extr.stimulus_info[\"Stimulus_repeat_logic\"]),\n",
    "                                     Test_stimulus.sampling_frequency[0])"
   ]
  },
  {
   "cell_type": "code",
   "execution_count": null,
   "id": "cc6c0cf0-6293-45d8-b319-4596f7cce2e1",
   "metadata": {
    "tags": []
   },
   "outputs": [],
   "source": [
    "Quality_overview = qgrid.show_grid(Quality_df)\n",
    "Quality_overview"
   ]
  },
  {
   "cell_type": "code",
   "execution_count": null,
   "id": "7c08a655-446c-498b-8295-271727a2019b",
   "metadata": {},
   "outputs": [],
   "source": [
    "stimulus_extr.spikes_stimulus = Quality_overview.get_changed_df()"
   ]
  },
  {
   "cell_type": "code",
   "execution_count": null,
   "id": "7cc91c69-1da2-434b-a5dc-91f757629d34",
   "metadata": {
    "tags": []
   },
   "outputs": [],
   "source": [
    "reload(spike_plotly)\n",
    "spike_plotly.plot_heatmap_new(Quality_overview.get_changed_df(), stimulus_extr.stimulus_info, Colours)"
   ]
  },
  {
   "cell_type": "code",
   "execution_count": null,
   "id": "74553938-cd59-469b-9bbe-c59b218db386",
   "metadata": {},
   "outputs": [],
   "source": [
    "test = stimulus_extr.spikes_stimulus.reset_index()"
   ]
  },
  {
   "cell_type": "code",
   "execution_count": null,
   "id": "6f0ab38d-dece-4c61-972c-e1ddfc046811",
   "metadata": {},
   "outputs": [],
   "source": [
    "reload(spike_plotly)\n",
    "spike_plotly.plot_qc_locations(stimulus_extr.spikes_stimulus.reset_index())"
   ]
  },
  {
   "cell_type": "code",
   "execution_count": null,
   "id": "9926b138-e6df-459d-a9ee-29e5d4754fa4",
   "metadata": {},
   "outputs": [],
   "source": [
    "output_w = widgets.Output(layout={'border': '1px solid black'})\n",
    "output_w"
   ]
  },
  {
   "cell_type": "code",
   "execution_count": null,
   "id": "215480f5-0b64-491f-9458-a6e881b04c4a",
   "metadata": {},
   "outputs": [],
   "source": [
    "stimulus_extr.define_output_window(output_w)\n",
    "stimulus_extr.cells_df = Quality_overview.get_changed_df()\n",
    "Quality_overview.on('selection_changed', stimulus_extr.plot_raster_whole_stimulus_from_grid)"
   ]
  },
  {
   "cell_type": "code",
   "execution_count": null,
   "id": "b4e81e59-e58b-4d93-8d55-99e09f1296bd",
   "metadata": {},
   "outputs": [],
   "source": [
    "with stimulus_extr.out_window:\n",
    "    display(raster_plot)"
   ]
  },
  {
   "cell_type": "code",
   "execution_count": null,
   "id": "a1492460-9567-4cfa-ae84-d80ffb0b6630",
   "metadata": {},
   "outputs": [],
   "source": [
    "stimulus_extr.plot_raster_whole_stimulus(233)"
   ]
  },
  {
   "cell_type": "code",
   "execution_count": null,
   "id": "4430a0ae-006b-485f-b20f-24eb6408c994",
   "metadata": {},
   "outputs": [],
   "source": [
    "test = Quality_df[\"ISI_x\"].loc[13].to_numpy()[0]"
   ]
  },
  {
   "cell_type": "code",
   "execution_count": null,
   "id": "f7523c46-2532-42dc-9340-1feb0d4ed427",
   "metadata": {},
   "outputs": [],
   "source": [
    "test"
   ]
  },
  {
   "cell_type": "code",
   "execution_count": null,
   "id": "4308c8de-328a-4af9-b8d0-c82b4d416d17",
   "metadata": {},
   "outputs": [],
   "source": [
    "reload(spike_plotly)\n",
    "spikes, spiketrains = stimulus_and_spikes.get_spikes_whole_stimulus(Quality_df, stimulus_extr.trigger_complete\n",
    "                                                        , 16, int(stimulus_extr.stimulus_info[\"Stimulus_repeat_logic\"]),\n",
    "                                                        stimulus_extr.sampling_freq)\n",
    "cell_df = stimulus_extr.spikes_stimulus.loc[16]\n",
    "raster_plot = spike_plotly.plot_raster_whole_stimulus_new(cell_df, spiketrains, int(stimulus_extr.stimulus_info[\"Stimulus_repeat_logic\"]),\n",
    "                                                              int(stimulus_extr.stimulus_info[\"Stimulus_repeat_sublogic\"]), stimulus_extr.Colours.axcolours,\n",
    "                                                              stimulus_extr.Colours.LED_names)"
   ]
  },
  {
   "cell_type": "code",
   "execution_count": null,
   "id": "bd79fa5b-259d-40f5-bb29-6c5eeaf89b46",
   "metadata": {},
   "outputs": [],
   "source": [
    "raster_plot"
   ]
  },
  {
   "cell_type": "code",
   "execution_count": null,
   "id": "196a1591-6192-46a5-9126-03d5e7b72f08",
   "metadata": {},
   "outputs": [],
   "source": [
    "cell_df[\"Gauss_average\"].to_numpy()[0]"
   ]
  },
  {
   "cell_type": "code",
   "execution_count": null,
   "id": "56e47079-6248-4e28-be57-62d3b73985f4",
   "metadata": {},
   "outputs": [],
   "source": []
  }
 ],
 "metadata": {
  "kernelspec": {
   "display_name": "Python 3",
   "language": "python",
   "name": "python3"
  },
  "language_info": {
   "codemirror_mode": {
    "name": "ipython",
    "version": 3
   },
   "file_extension": ".py",
   "mimetype": "text/x-python",
   "name": "python",
   "nbconvert_exporter": "python",
   "pygments_lexer": "ipython3",
   "version": "3.9.5"
  }
 },
 "nbformat": 4,
 "nbformat_minor": 5
}
