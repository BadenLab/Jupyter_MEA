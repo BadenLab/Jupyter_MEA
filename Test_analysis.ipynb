{
 "cells": [
  {
   "cell_type": "markdown",
   "id": "8e6dc96b",
   "metadata": {},
   "source": [
    "# MEA analysis script for a single recording\n",
    "This is the analysis script to extract the trigger channel and the spikes from a single MEA recording. The input data is a .brw file which contains the stimulus channel of the recording and a .hdf5 file which is the output of the HS2 spikesorting algorithm. \n",
    "At the end of this script, dataframes containing the spikes sorted by stimuli and the trigger times for each stimulus can be exported either to a zipped pickle file or a .mat matlab file for forther analysis in Matlab.\n",
    "First we import all needed libraries:"
   ]
  },
  {
   "cell_type": "code",
   "execution_count": null,
   "id": "0a27a561",
   "metadata": {},
   "outputs": [],
   "source": [
    "from MEA_analysis import backbone, stimulus_trace, spike_extractor, spike_plotly, stimulus_and_spikes, single_stimulus\n",
    "from importlib import reload  \n",
    "import qgrid\n",
    "%matplotlib widget\n",
    "reload(spike_plotly)\n",
    "reload(spike_extractor)\n",
    "from ipywidgets import interact, interact_manual, interactive\n",
    "import ipywidgets as widgets\n",
    "import numpy as np\n",
    "import pandas as pd\n",
    "import plotly.graph_objects as go"
   ]
  },
  {
   "cell_type": "markdown",
   "id": "fdb38f0f",
   "metadata": {},
   "source": [
    "### Import the stimulus file\n",
    "Run the cell and click on the File select button. Choose the stimulus file that you would like to use from the pop up window. "
   ]
  },
  {
   "cell_type": "code",
   "execution_count": null,
   "id": "7faceaf2",
   "metadata": {},
   "outputs": [],
   "source": [
    "trigger_file = backbone.SelectFilesButton(\"Stimulus\")\n",
    "widgets.VBox([trigger_file, trigger_file.out])"
   ]
  },
  {
   "cell_type": "markdown",
   "id": "01b50c36",
   "metadata": {},
   "source": [
    "#### Choice:\n",
    "You can jump over the next steps and load a saved stimulus dataframe a few cells further down!"
   ]
  },
  {
   "cell_type": "markdown",
   "id": "3ac44161",
   "metadata": {},
   "source": [
    "#### Plot the trigger channel and define stimulus borders\n",
    "This is an interactive plot, you can define stimuli by selecting a trigger signal (which will be the stimulus begin) and than select a second trigger signal (which will be the stimulus end). The stimulus begin will be indicated by a yellow dot and the end by a red dot which will be plotted into the \n",
    "graph. Depending on how long the recording is, the selection process can take a few seconds, check on the bottom left, if Python indicates that it is \"busy\". \n",
    "Also please note: This overview plot is downsampled, to make the plotting faster. You can change the factor by changing the input parameter for this function `Test_stimulus.plot_trigger_channel_new(\"200ms\")` . If you choose higher values, the downsampling will be higher, but this will also create more artefacts. The artefacts are not important until the point at which whole trigger signals disappear due to the downsampling. "
   ]
  },
  {
   "cell_type": "code",
   "execution_count": null,
   "id": "5921dff8",
   "metadata": {},
   "outputs": [],
   "source": [
    "Test_stimulus = stimulus_trace.Stimulus_Extractor(trigger_file.files[0])\n",
    "Test_stimulus.plot_trigger_channel_new(\"200ms\")\n"
   ]
  },
  {
   "cell_type": "markdown",
   "id": "ede73eb7",
   "metadata": {},
   "source": [
    "Once you have selected all stimuli, run this cell to correctly identify them. A line will be plotted on top of the trigger signal for each stimulus."
   ]
  },
  {
   "cell_type": "code",
   "execution_count": null,
   "id": "57369750",
   "metadata": {},
   "outputs": [],
   "source": [
    "Test_stimulus.get_stim_range_new()"
   ]
  },
  {
   "cell_type": "markdown",
   "id": "5b9eba41",
   "metadata": {},
   "source": [
    "\n",
    "Here you see all the information that has been gathered for the respective stimuli. Next, you should name the stimuli in the field \"Stimulus_name\" just double click a row and enter the name you want. Also enter the values for the Stimulus repeat logic and the repeat sublogic at the respective rows. "
   ]
  },
  {
   "cell_type": "code",
   "execution_count": null,
   "id": "c1bda91a",
   "metadata": {},
   "outputs": [],
   "source": [
    "Stimulus_table = qgrid.show_grid(Test_stimulus.stimuli)\n",
    "Stimulus_table"
   ]
  },
  {
   "cell_type": "markdown",
   "id": "e1d51d1f",
   "metadata": {},
   "source": [
    "Once you are done, run the next cell. The correct names of the stimuli will appear in the plot above."
   ]
  },
  {
   "cell_type": "code",
   "execution_count": null,
   "id": "dd777682",
   "metadata": {},
   "outputs": [],
   "source": [
    "Test_stimulus.get_changed_names(Stimulus_table)\n"
   ]
  },
  {
   "cell_type": "code",
   "execution_count": null,
   "id": "07d5b1a9",
   "metadata": {},
   "outputs": [],
   "source": [
    "Test_stimulus = stimulus_trace.Stimulus_Extractor(trigger_file.files[0])\n",
    "Test_stimulus.load_from_saved(Test_stimulus.recording_folder+\"stimulus_overview\")"
   ]
  },
  {
   "cell_type": "markdown",
   "id": "a46e6777",
   "metadata": {},
   "source": [
    "## Loading the spikes\n",
    "Here we load the spikes. Run the cell and click the button to select the output file of the HS2 spikesorting. "
   ]
  },
  {
   "cell_type": "code",
   "execution_count": null,
   "id": "e51b1d62",
   "metadata": {},
   "outputs": [],
   "source": [
    "spikes_file = backbone.SelectFilesButton(\"Spikes\")\n",
    "widgets.VBox([spikes_file, spikes_file.out])"
   ]
  },
  {
   "cell_type": "markdown",
   "id": "cd5a6307",
   "metadata": {},
   "source": [
    "The next cell will plot an overview over all the cells found by the spikesorting and the number of spikes for each cell. Under the plot you find a number of interfaces that allow for setting thresholds for how many cells you want to load, and at which points cells with too many spikes or too less spikes shall be kicked out. "
   ]
  },
  {
   "cell_type": "code",
   "execution_count": null,
   "id": "a8056207",
   "metadata": {},
   "outputs": [],
   "source": [
    "reload(spike_extractor)\n",
    "Spikes = spike_extractor.Recording_spikes(spikes_file.files[0])\n",
    "thresholds = spike_extractor.Thresholds(Spikes.spikes, Test_stimulus)\n",
    "overview = spike_plotly.Recording_overview(Spikes.spikes)\n",
    "overview.plot_basic_recording_information(thresholds)"
   ]
  },
  {
   "cell_type": "markdown",
   "id": "86080d9f",
   "metadata": {},
   "source": [
    "Once you have made the selection, you can load the respective spikes by running the next cell. It will return an overview over all loaded cells, and the spikes per stimulus, as well as the location of the cell on the MEA grid."
   ]
  },
  {
   "cell_type": "code",
   "execution_count": null,
   "id": "f69c41b6",
   "metadata": {
    "tags": []
   },
   "outputs": [],
   "source": [
    "#Load spikes\n",
    "\n",
    "reload(stimulus_and_spikes)\n",
    "Spikes.define_subset(thresholds.threshold_left_widget.value, thresholds.threshold_right_widget.value)\n",
    "Spikes.define_thr(thresholds.threshold_up_widget.value, thresholds.threshold_low_widget.value)\n",
    "spikes_df = Spikes.get_spikes(True, True)[2]\n",
    "\n",
    "#Correlate spikes and stimuli\n",
    "begin_idx, end_idx = stimulus_and_spikes.spikes_and_stimulus(spikes_df, Test_stimulus.stimuli)   \n",
    "stimulus_spikes = stimulus_and_spikes.extract_stimulus_spikes(spikes_df, Test_stimulus.stimuli['Stimulus_name'], begin_idx, end_idx, np.array(Test_stimulus.stimuli['Begin_Fr'][:], dtype=int))\n",
    "complete_dataframe = pd.DataFrame(columns=('Cell index', 'Centres x', 'Centres y', 'Nr of Spikes', 'Area', 'Stimulus ID', 'Stimulus name', 'Spikes'))\n",
    "row = 0\n",
    "\n",
    "for cell in range(len(spikes_df)):\n",
    "       \n",
    "    for stimulus in range(len(stimulus_spikes)):\n",
    "        nr_spikes_new = np.count_nonzero(~stimulus_spikes['Spikes'][stimulus][:, cell].mask)\n",
    "        area_new =  spikes_df['Area'].loc[cell]* (nr_spikes_new/spikes_df['Nr of spikes'].loc[cell])\n",
    "        complete_dataframe.loc[row] = [spikes_df['Cell index'].loc[cell], spikes_df['Centres x'].loc[cell],  spikes_df['Centres y'].loc[cell],\n",
    "                                       nr_spikes_new, area_new, stimulus, \n",
    "                                       Test_stimulus.stimuli['Stimulus_name'][stimulus], stimulus_spikes['Spikes'][stimulus][:, cell]]\n",
    "        row = row+1\n",
    "\n",
    "        \n",
    "multi_complete_dataframe = complete_dataframe.set_index(['Cell index', 'Stimulus ID', 'Centres x', 'Centres y', 'Nr of Spikes', 'Area', 'Stimulus name'])\n",
    "complete_dataset = qgrid.show_grid(multi_complete_dataframe)\n",
    "complete_dataset"
   ]
  },
  {
   "cell_type": "markdown",
   "id": "65f83796",
   "metadata": {},
   "source": [
    "You can save this dataframe and the stimulus dataframe here to be able to load them together with other recordings later."
   ]
  },
  {
   "cell_type": "code",
   "execution_count": null,
   "id": "c7d6f457",
   "metadata": {},
   "outputs": [],
   "source": [
    "multi_complete_dataframe.to_pickle(Test_stimulus.recording_folder+\"spikes_for_overview\", compression=\"zip\")\n",
    "Test_stimulus.stimuli.to_pickle(Test_stimulus.recording_folder+\"stimulus_overview\", compression=\"zip\")"
   ]
  },
  {
   "cell_type": "code",
   "execution_count": null,
   "id": "ef242e86",
   "metadata": {},
   "outputs": [],
   "source": [
    "waveform_window = widgets.Output(layout={'border': '1px solid black'})\n",
    "waveform_window"
   ]
  },
  {
   "cell_type": "markdown",
   "id": "81b5d834",
   "metadata": {},
   "source": [
    "This cell plots an overview over the how many spikes were detected (circle size) at which location on the MEA grid."
   ]
  },
  {
   "cell_type": "code",
   "execution_count": null,
   "id": "ccda16e5",
   "metadata": {},
   "outputs": [],
   "source": [
    "reload(spike_plotly)\n",
    "plottingarray = spike_plotly.ArrayFigure(spikes_df, Spikes)\n",
    "plottingarray.window = waveform_window\n",
    "test, table= plottingarray.plot_locations(invert=True)\n"
   ]
  },
  {
   "cell_type": "code",
   "execution_count": null,
   "id": "d108f6d5",
   "metadata": {},
   "outputs": [],
   "source": [
    "test"
   ]
  },
  {
   "cell_type": "markdown",
   "id": "107789d3",
   "metadata": {},
   "source": [
    "## Look at single stimuli\n",
    "Next we can load single stimuli and look at the spiketrains. Run the next cell and select which stimulus you want to look at."
   ]
  },
  {
   "cell_type": "code",
   "execution_count": null,
   "id": "70f92298",
   "metadata": {},
   "outputs": [],
   "source": [
    "table"
   ]
  },
  {
   "cell_type": "code",
   "execution_count": null,
   "id": "eba10cb1",
   "metadata": {},
   "outputs": [],
   "source": [
    "indices = plottingarray.indices.to_numpy()"
   ]
  },
  {
   "cell_type": "code",
   "execution_count": null,
   "id": "e3213b19",
   "metadata": {},
   "outputs": [],
   "source": [
    "indices"
   ]
  },
  {
   "cell_type": "code",
   "execution_count": null,
   "id": "055616b9",
   "metadata": {},
   "outputs": [],
   "source": [
    "multi_complete_dataframe[\"Array_Selection\"] = \"False\"\n",
    "multi_complete_dataframe"
   ]
  },
  {
   "cell_type": "code",
   "execution_count": null,
   "id": "38a92c82",
   "metadata": {},
   "outputs": [],
   "source": [
    "for i in indices:\n",
    "    multi_complete_dataframe.loc[multi_complete_dataframe.index.get_level_values(0) == i, \"Array_Selection\"] = \"True\""
   ]
  },
  {
   "cell_type": "code",
   "execution_count": null,
   "id": "4d92e5bc",
   "metadata": {
    "tags": []
   },
   "outputs": [],
   "source": [
    "reload(single_stimulus)\n",
    "stimulus_extr = single_stimulus.Single_stimulus_spikes(multi_complete_dataframe, Test_stimulus)\n",
    "select_stimulus = backbone.select_stimulus(len(Test_stimulus.stimuli)-1)\n",
    "\n",
    "interact(stimulus_extr.load_spikes_for_stimulus, stimulus_id = select_stimulus)"
   ]
  },
  {
   "cell_type": "markdown",
   "id": "48020f0d",
   "metadata": {},
   "source": [
    "### Export spikes to matlab\n",
    "If you want, you can export the spikes for the stimulus you have selected. The file will be saved in the same folder in which the .hdf5 file is located in. Its names based on the stimulus name and stimulus ID"
   ]
  },
  {
   "cell_type": "code",
   "execution_count": null,
   "id": "41d2c53b",
   "metadata": {},
   "outputs": [],
   "source": [
    "array_select_spikes = stimulus_extr.dataframe_view.get_changed_df()"
   ]
  },
  {
   "cell_type": "code",
   "execution_count": null,
   "id": "efcd2866",
   "metadata": {},
   "outputs": [],
   "source": [
    "array_select_spikes"
   ]
  },
  {
   "cell_type": "code",
   "execution_count": null,
   "id": "1681f0d3",
   "metadata": {},
   "outputs": [],
   "source": [
    "# Export spiketimes to matlab\n",
    "from scipy.io import savemat\n",
    "\n",
    "Spikes = list(stimulus_extr.spikes_stimulus[\"Spikes\"]/stimulus_extr.sampling_freq)\n",
    "max_len = np.shape(Spikes[0])[0]\n",
    "spikes_array = np.zeros((max_len, len(Spikes)), dtype=float)\n",
    "\n",
    "for cell in range(len(Spikes)):\n",
    "    spikes_array[:, cell] = Spikes[cell]\n",
    "    \n",
    "    \n",
    "\n",
    "channel = np.array(Test_stimulus.channel[stimulus_extr.stimulus_info[\"Begin_Fr\"]-10:stimulus_extr.stimulus_info[\"End_Fr\"]])\n",
    "channel = channel[:, 0].astype(int)\n",
    "\n",
    "test_dic = {}\n",
    "test_dic[\"spiketimestamps\"] = spikes_array\n",
    "test_dic[\"Ch_new\"] = {}\n",
    "test_dic[\"Ch_new\"][\"trigger_ch\"] = channel\n",
    "test_dic[\"Ch_new\"][\"SamplingFrequency\"] = stimulus_extr.sampling_freq\n",
    "test_dic[\"Cell_idx\"] = stimulus_extr.spikes_stimulus.index.get_level_values(0).to_numpy()\n",
    "#test = test_dic[\"Ch_new\"] = np.core.records.fromarrays([[1, 10], [2, 20]], names=['field1', 'field2'])\n",
    "\n",
    "savemat(Test_stimulus.recording_folder+Test_stimulus.stimuli.loc[select_stimulus.value][\"Stimulus_name\"]+\n",
    "        str(select_stimulus.value)+\"_spikes.mat\", test_dic)"
   ]
  },
  {
   "cell_type": "code",
   "execution_count": null,
   "id": "1d04eca7",
   "metadata": {
    "tags": []
   },
   "outputs": [],
   "source": [
    "reload(spike_plotly)\n",
    "Colours = spike_plotly.Colour_template()\n",
    "colour_selection = Colours.select_preset_colour()\n",
    "interact(Colours.pickstimcolour, selected_stimulus=colour_selection)"
   ]
  },
  {
   "cell_type": "code",
   "execution_count": null,
   "id": "b51e91ea",
   "metadata": {},
   "outputs": [],
   "source": [
    "Colours.changed_selection()\n",
    "stimulus_extr.Colours = Colours"
   ]
  },
  {
   "cell_type": "code",
   "execution_count": null,
   "id": "bb59c813",
   "metadata": {},
   "outputs": [],
   "source": [
    "stimulus_extr.spikes_psth_all()"
   ]
  },
  {
   "cell_type": "code",
   "execution_count": null,
   "id": "0a34a40f",
   "metadata": {},
   "outputs": [],
   "source": [
    "array_select_spikes = single_stimulus.spikes_psth_all(array_select_spikes, stimulus_extr.trigger_complete,\n",
    "                                     int(stimulus_extr.stimulus_info[\"Stimulus_repeat_logic\"]),\n",
    "                                     Test_stimulus.sampling_frequency[0])"
   ]
  },
  {
   "cell_type": "code",
   "execution_count": null,
   "id": "94daea64",
   "metadata": {
    "tags": []
   },
   "outputs": [],
   "source": [
    "reload(single_stimulus)\n",
    "reload(stimulus_and_spikes)\n",
    "Quality_df = single_stimulus.calculate_quality_index(array_select_spikes, stimulus_extr.trigger_complete,\n",
    "                                     int(stimulus_extr.stimulus_info[\"Stimulus_repeat_logic\"]),\n",
    "                                     Test_stimulus.sampling_frequency[0])"
   ]
  },
  {
   "cell_type": "code",
   "execution_count": null,
   "id": "5a082695",
   "metadata": {
    "tags": []
   },
   "outputs": [],
   "source": [
    "Quality_overview = qgrid.show_grid(Quality_df)\n",
    "Quality_overview"
   ]
  },
  {
   "cell_type": "code",
   "execution_count": null,
   "id": "239b0cb2",
   "metadata": {},
   "outputs": [],
   "source": [
    "Quality_df.index.get_level_values(0)"
   ]
  },
  {
   "cell_type": "code",
   "execution_count": null,
   "id": "b5e6aa24",
   "metadata": {},
   "outputs": [],
   "source": [
    "np.where([Quality_df.index.get_level_values(0) == 28][0])"
   ]
  },
  {
   "cell_type": "code",
   "execution_count": null,
   "id": "74b554ce",
   "metadata": {},
   "outputs": [],
   "source": [
    "Quality_df.iloc[11]"
   ]
  },
  {
   "cell_type": "code",
   "execution_count": null,
   "id": "eccf2663",
   "metadata": {},
   "outputs": [],
   "source": [
    "stimulus_extr.spikes_stimulus = Quality_overview.get_changed_df()"
   ]
  },
  {
   "cell_type": "code",
   "execution_count": null,
   "id": "714a8839",
   "metadata": {
    "tags": []
   },
   "outputs": [],
   "source": [
    "reload(spike_plotly)\n",
    "spike_plotly.plot_heatmap_new(Quality_overview.get_changed_df(), stimulus_extr.stimulus_info, Colours)"
   ]
  },
  {
   "cell_type": "code",
   "execution_count": null,
   "id": "d19de168",
   "metadata": {},
   "outputs": [],
   "source": [
    "Quality_overview.get_changed_df()"
   ]
  },
  {
   "cell_type": "code",
   "execution_count": null,
   "id": "8de9636b",
   "metadata": {},
   "outputs": [],
   "source": [
    "reload(spike_plotly)\n",
    "spike_plotly.plot_heatmap_new(Quality_overview.get_changed_df(), stimulus_extr.stimulus_info, Colours)"
   ]
  },
  {
   "cell_type": "code",
   "execution_count": null,
   "id": "864c9c50",
   "metadata": {},
   "outputs": [],
   "source": [
    "output_w = widgets.Output(layout={'border': '1px solid black'})\n",
    "output_w"
   ]
  },
  {
   "cell_type": "code",
   "execution_count": null,
   "id": "70ccb677",
   "metadata": {
    "tags": []
   },
   "outputs": [],
   "source": [
    "stimulus_extr.define_output_window(output_w)\n",
    "stimulus_extr.cells_df = Quality_overview.get_changed_df()\n",
    "Quality_overview.on('selection_changed', stimulus_extr.plot_raster_whole_stimulus_from_grid_new)"
   ]
  },
  {
   "cell_type": "code",
   "execution_count": null,
   "id": "058158db",
   "metadata": {},
   "outputs": [],
   "source": [
    "stimulus_extr.plot_raster_whole_stimulus(cell_idx=28)"
   ]
  },
  {
   "cell_type": "code",
   "execution_count": null,
   "id": "6779f3d5",
   "metadata": {},
   "outputs": [],
   "source": []
  },
  {
   "cell_type": "code",
   "execution_count": null,
   "id": "764a38a9",
   "metadata": {},
   "outputs": [],
   "source": []
  },
  {
   "cell_type": "code",
   "execution_count": null,
   "id": "9fc70488",
   "metadata": {},
   "outputs": [],
   "source": [
    "test = stimulus_extr.spikes_stimulus.reset_index()"
   ]
  },
  {
   "cell_type": "code",
   "execution_count": null,
   "id": "fafb0634",
   "metadata": {},
   "outputs": [],
   "source": []
  },
  {
   "cell_type": "code",
   "execution_count": null,
   "id": "c4dcbc07",
   "metadata": {},
   "outputs": [],
   "source": [
    "reload(spike_plotly)\n",
    "spike_plotly.plot_qc_locations(stimulus_extr.spikes_stimulus.reset_index())"
   ]
  },
  {
   "cell_type": "code",
   "execution_count": null,
   "id": "ec1a9052",
   "metadata": {},
   "outputs": [],
   "source": [
    "output_w = widgets.Output(layout={'border': '1px solid black'})\n",
    "output_w"
   ]
  },
  {
   "cell_type": "code",
   "execution_count": null,
   "id": "f10489c3",
   "metadata": {
    "tags": []
   },
   "outputs": [],
   "source": [
    "stimulus_extr.define_output_window(output_w)\n",
    "stimulus_extr.cells_df = Quality_overview.get_changed_df()\n",
    "Quality_overview.on('selection_changed', stimulus_extr.plot_raster_whole_stimulus_from_grid_new)"
   ]
  },
  {
   "cell_type": "code",
   "execution_count": null,
   "id": "47626a96",
   "metadata": {},
   "outputs": [],
   "source": []
  },
  {
   "cell_type": "code",
   "execution_count": null,
   "id": "659b4899",
   "metadata": {},
   "outputs": [],
   "source": []
  },
  {
   "cell_type": "code",
   "execution_count": null,
   "id": "94b7ba2c",
   "metadata": {},
   "outputs": [],
   "source": []
  },
  {
   "cell_type": "code",
   "execution_count": null,
   "id": "0ce457de",
   "metadata": {},
   "outputs": [],
   "source": []
  },
  {
   "cell_type": "code",
   "execution_count": null,
   "id": "a6c0d3d1",
   "metadata": {},
   "outputs": [],
   "source": []
  },
  {
   "cell_type": "code",
   "execution_count": null,
   "id": "2b4c0545",
   "metadata": {},
   "outputs": [],
   "source": []
  },
  {
   "cell_type": "code",
   "execution_count": null,
   "id": "8d77b5f1",
   "metadata": {},
   "outputs": [],
   "source": [
    "with stimulus_extr.out_window:\n",
    "    display(raster_plot)"
   ]
  },
  {
   "cell_type": "code",
   "execution_count": null,
   "id": "085a92bd",
   "metadata": {},
   "outputs": [],
   "source": [
    "stimulus_extr.plot_raster_whole_stimulus(233)"
   ]
  },
  {
   "cell_type": "code",
   "execution_count": null,
   "id": "3b64c4e7",
   "metadata": {},
   "outputs": [],
   "source": [
    "test = Quality_df[\"ISI_x\"].loc[13].to_numpy()[0]"
   ]
  },
  {
   "cell_type": "code",
   "execution_count": null,
   "id": "674fc7f9",
   "metadata": {},
   "outputs": [],
   "source": [
    "test"
   ]
  },
  {
   "cell_type": "code",
   "execution_count": null,
   "id": "3721d390",
   "metadata": {},
   "outputs": [],
   "source": [
    "reload(spike_plotly)\n",
    "spikes, spiketrains = stimulus_and_spikes.get_spikes_whole_stimulus(Quality_df, stimulus_extr.trigger_complete\n",
    "                                                        , 16, int(stimulus_extr.stimulus_info[\"Stimulus_repeat_logic\"]),\n",
    "                                                        stimulus_extr.sampling_freq)\n",
    "cell_df = stimulus_extr.spikes_stimulus.loc[16]\n",
    "raster_plot = spike_plotly.plot_raster_whole_stimulus_new(cell_df, spiketrains, int(stimulus_extr.stimulus_info[\"Stimulus_repeat_logic\"]),\n",
    "                                                              int(stimulus_extr.stimulus_info[\"Stimulus_repeat_sublogic\"]), stimulus_extr.Colours.axcolours,\n",
    "                                                              stimulus_extr.Colours.LED_names)"
   ]
  },
  {
   "cell_type": "code",
   "execution_count": null,
   "id": "1a8fc767",
   "metadata": {},
   "outputs": [],
   "source": [
    "raster_plot"
   ]
  },
  {
   "cell_type": "code",
   "execution_count": null,
   "id": "1fc48bcf",
   "metadata": {},
   "outputs": [],
   "source": [
    "cell_df[\"Gauss_average\"].to_numpy()[0]"
   ]
  },
  {
   "cell_type": "code",
   "execution_count": null,
   "id": "facef888",
   "metadata": {},
   "outputs": [],
   "source": []
  }
 ],
 "metadata": {
  "kernelspec": {
   "display_name": "Python 3",
   "language": "python",
   "name": "python3"
  },
  "language_info": {
   "codemirror_mode": {
    "name": "ipython",
    "version": 3
   },
   "file_extension": ".py",
   "mimetype": "text/x-python",
   "name": "python",
   "nbconvert_exporter": "python",
   "pygments_lexer": "ipython3",
   "version": "3.8.8"
  }
 },
 "nbformat": 4,
 "nbformat_minor": 5
}
